{
 "cells": [
  {
   "cell_type": "code",
   "execution_count": 2,
   "metadata": {},
   "outputs": [],
   "source": [
    "import re"
   ]
  },
  {
   "cell_type": "code",
   "execution_count": 74,
   "metadata": {},
   "outputs": [
    {
     "name": "stdout",
     "output_type": "stream",
     "text": [
      "繰[く]り替[か]える\n"
     ]
    }
   ],
   "source": [
    "word = \"繰り替える\"\n",
    "furigana_sentence = \"繰[く]り替[か]える\"\n",
    "letters = list(word)\n",
    "furigana_match = re.search(rf\"({re.escape(word)}\\[[^\\]]+\\])\", furigana_sentence) or re.search(rf\"({re.escape(letters[0])}.*?(\\[.*?\\])?{re.escape(letters[-1])})(\\[.*?\\])?\", furigana_sentence)\n",
    "print(furigana_match.group())\n"
   ]
  },
  {
   "cell_type": "code",
   "execution_count": null,
   "metadata": {},
   "outputs": [
    {
     "name": "stdout",
     "output_type": "stream",
     "text": [
      "to be crowded\n"
     ]
    }
   ],
   "source": [
    "Word = \"混む (to be crowded)\"\n",
    "print(re.search(rf\"\\((.*?)\\)\", Word).group(1))"
   ]
  },
  {
   "cell_type": "code",
   "execution_count": null,
   "metadata": {},
   "outputs": [],
   "source": []
  }
 ],
 "metadata": {
  "kernelspec": {
   "display_name": "Python 3",
   "language": "python",
   "name": "python3"
  },
  "language_info": {
   "codemirror_mode": {
    "name": "ipython",
    "version": 3
   },
   "file_extension": ".py",
   "mimetype": "text/x-python",
   "name": "python",
   "nbconvert_exporter": "python",
   "pygments_lexer": "ipython3",
   "version": "3.11.7"
  }
 },
 "nbformat": 4,
 "nbformat_minor": 2
}
